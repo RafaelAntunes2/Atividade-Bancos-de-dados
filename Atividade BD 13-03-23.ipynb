{
    "metadata": {
        "kernelspec": {
            "name": "SQL",
            "display_name": "SQL",
            "language": "sql"
        },
        "language_info": {
            "name": "sql",
            "version": ""
        }
    },
    "nbformat_minor": 2,
    "nbformat": 4,
    "cells": [
        {
            "cell_type": "code",
            "source": [
                "Create DATABASE AGENCIA_CARROS\r\n",
                ""
            ],
            "metadata": {
                "azdata_cell_guid": "af05efe4-7ac7-4640-b5c4-88caa069c1d9",
                "tags": [
                    "hide_input"
                ]
            },
            "outputs": [
                {
                    "output_type": "display_data",
                    "data": {
                        "text/html": "Commands completed successfully."
                    },
                    "metadata": {}
                },
                {
                    "output_type": "display_data",
                    "data": {
                        "text/html": "Total execution time: 00:00:00.159"
                    },
                    "metadata": {}
                }
            ],
            "execution_count": 2
        },
        {
            "cell_type": "code",
            "source": [
                "USE AGENCIA_CARROS"
            ],
            "metadata": {
                "azdata_cell_guid": "caa97d24-9119-4ae0-b19e-4b0e43169147"
            },
            "outputs": [
                {
                    "output_type": "display_data",
                    "data": {
                        "text/html": "Commands completed successfully."
                    },
                    "metadata": {}
                },
                {
                    "output_type": "display_data",
                    "data": {
                        "text/html": "Total execution time: 00:00:00.006"
                    },
                    "metadata": {}
                }
            ],
            "execution_count": 3
        },
        {
            "cell_type": "code",
            "source": [
                "CREATE TABLE Cliente(\r\n",
                " Cod_Cliente int PRIMARY KEY,\r\n",
                " Nome VARCHAR(45) NOT NULL,\r\n",
                " CPF VARCHAR (45) NOT NULL UNIQUE,\r\n",
                " Sexo VARCHAR(20),\r\n",
                " Estado VARCHAR(45),\r\n",
                " Cidade VARCHAR(45) DEFAULT 'itapira',\r\n",
                " Bairro VARCHAR(45),\r\n",
                " Numero VARCHAR(45),\r\n",
                " Rua VARCHAR(45),\r\n",
                " TelefoneFixo VARCHAR(45),\r\n",
                " TelefoneCelular VARCHAR(45) NOT NULL UNIQUE\r\n",
                ")"
            ],
            "metadata": {
                "azdata_cell_guid": "92710f4d-d9de-4553-bf23-5e5de40f1617"
            },
            "outputs": [
                {
                    "output_type": "display_data",
                    "data": {
                        "text/html": "Commands completed successfully."
                    },
                    "metadata": {}
                },
                {
                    "output_type": "display_data",
                    "data": {
                        "text/html": "Total execution time: 00:00:00.007"
                    },
                    "metadata": {}
                }
            ],
            "execution_count": 4
        },
        {
            "cell_type": "code",
            "source": [
                "CREATE TABLE Carro(\r\n",
                "Cod_Carro int PRIMARY KEY,\r\n",
                " Placa VARCHAR(45),\r\n",
                " Marca VARCHAR (45),\r\n",
                " Modelo VARCHAR(20),\r\n",
                " Ano VARCHAR(45),\r\n",
                " Chassi VARCHAR(45),\r\n",
                " Cor VARCHAR(45)\r\n",
                ")"
            ],
            "metadata": {
                "azdata_cell_guid": "70fde0ab-49b9-4e1e-ad9a-2dfbf0e54ecd"
            },
            "outputs": [
                {
                    "output_type": "display_data",
                    "data": {
                        "text/html": "Commands completed successfully."
                    },
                    "metadata": {}
                },
                {
                    "output_type": "display_data",
                    "data": {
                        "text/html": "Total execution time: 00:00:00.002"
                    },
                    "metadata": {}
                }
            ],
            "execution_count": 5
        },
        {
            "cell_type": "code",
            "source": [
                "CREATE TABLE Apolice(\r\n",
                "Cod_Apolice INT NOT NULL PRIMARY KEY,\r\n",
                "ValorCobertura DECIMAL NOT NULL,\r\n",
                " ValorFranquia DECIMAL NOT NULL,\r\n",
                " DataInicioVigencia  DATE NOT NULL CHECK (DataInicioVigencia > GetDate()),\r\n",
                "DataFimVigencia DATE NOT NULL,\r\n",
                " Ano VARCHAR(45) NOT NULL,\r\n",
                " Cliente_CodCliente INT  REFERENCES Cliente (Cod_Cliente),\r\n",
                " Carro_CodCarro INT  REFERENCES Carro (Cod_Carro)\r\n",
                ")\r\n",
                ""
            ],
            "metadata": {
                "azdata_cell_guid": "c947dd22-2611-4338-b889-0a9103e73c80",
                "tags": []
            },
            "outputs": [
                {
                    "output_type": "display_data",
                    "data": {
                        "text/html": "Commands completed successfully."
                    },
                    "metadata": {}
                },
                {
                    "output_type": "display_data",
                    "data": {
                        "text/html": "Total execution time: 00:00:00.004"
                    },
                    "metadata": {}
                }
            ],
            "execution_count": 6
        },
        {
            "cell_type": "code",
            "source": [
                "CREATE TABLE Sinistro(\r\n",
                "Cod_Sinistro  INT,\r\n",
                " PRIMARY KEY(Cod_Sinistro,Carro_CodCarro),\r\n",
                "HoraSinistro INT,\r\n",
                "DataSinistro DATE,\r\n",
                "LocalSinistro VARCHAR(45),\r\n",
                "Condutor VARCHAR(45),\r\n",
                "Carro_CodCarro INT  REFERENCES Carro(Cod_Carro)\r\n",
                ")"
            ],
            "metadata": {
                "azdata_cell_guid": "e07325b6-1e54-4031-b137-71314f17ee02",
                "tags": []
            },
            "outputs": [
                {
                    "output_type": "display_data",
                    "data": {
                        "text/html": "Commands completed successfully."
                    },
                    "metadata": {}
                },
                {
                    "output_type": "display_data",
                    "data": {
                        "text/html": "Total execution time: 00:00:00.011"
                    },
                    "metadata": {}
                }
            ],
            "execution_count": 8
        }
    ]
}